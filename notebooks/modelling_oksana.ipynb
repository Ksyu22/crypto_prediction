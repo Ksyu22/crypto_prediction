{
 "cells": [
  {
   "cell_type": "code",
   "execution_count": 41,
   "metadata": {},
   "outputs": [
    {
     "name": "stdout",
     "output_type": "stream",
     "text": [
      "The autoreload extension is already loaded. To reload it, use:\n",
      "  %reload_ext autoreload\n"
     ]
    }
   ],
   "source": [
    "%load_ext autoreload\n",
    "%autoreload 2"
   ]
  },
  {
   "cell_type": "code",
   "execution_count": 42,
   "metadata": {},
   "outputs": [],
   "source": [
    "import pandas as pd\n",
    "import numpy as np\n",
    "import matplotlib.pyplot as plt\n",
    "\n",
    "from sklearn.preprocessing import MinMaxScaler\n",
    "\n",
    "from tensorflow.keras.models import Sequential\n",
    "from tensorflow.keras import layers\n",
    "\n",
    "from crypto_prediction.data.fetch_data import fetch_data"
   ]
  },
  {
   "cell_type": "code",
   "execution_count": 48,
   "metadata": {},
   "outputs": [
    {
     "name": "stdout",
     "output_type": "stream",
     "text": [
      "[*********************100%***********************]  1 of 1 completed\n"
     ]
    },
    {
     "data": {
      "text/html": [
       "<div>\n",
       "<style scoped>\n",
       "    .dataframe tbody tr th:only-of-type {\n",
       "        vertical-align: middle;\n",
       "    }\n",
       "\n",
       "    .dataframe tbody tr th {\n",
       "        vertical-align: top;\n",
       "    }\n",
       "\n",
       "    .dataframe thead th {\n",
       "        text-align: right;\n",
       "    }\n",
       "</style>\n",
       "<table border=\"1\" class=\"dataframe\">\n",
       "  <thead>\n",
       "    <tr style=\"text-align: right;\">\n",
       "      <th></th>\n",
       "      <th>close</th>\n",
       "    </tr>\n",
       "    <tr>\n",
       "      <th>timestamp</th>\n",
       "      <th></th>\n",
       "    </tr>\n",
       "  </thead>\n",
       "  <tbody>\n",
       "    <tr>\n",
       "      <th>2023-02-06</th>\n",
       "      <td>22760.109375</td>\n",
       "    </tr>\n",
       "    <tr>\n",
       "      <th>2023-02-05</th>\n",
       "      <td>22955.666016</td>\n",
       "    </tr>\n",
       "    <tr>\n",
       "      <th>2023-02-04</th>\n",
       "      <td>23331.847656</td>\n",
       "    </tr>\n",
       "    <tr>\n",
       "      <th>2023-02-03</th>\n",
       "      <td>23449.322266</td>\n",
       "    </tr>\n",
       "    <tr>\n",
       "      <th>2023-02-02</th>\n",
       "      <td>23471.871094</td>\n",
       "    </tr>\n",
       "  </tbody>\n",
       "</table>\n",
       "</div>"
      ],
      "text/plain": [
       "                   close\n",
       "timestamp               \n",
       "2023-02-06  22760.109375\n",
       "2023-02-05  22955.666016\n",
       "2023-02-04  23331.847656\n",
       "2023-02-03  23449.322266\n",
       "2023-02-02  23471.871094"
      ]
     },
     "execution_count": 48,
     "metadata": {},
     "output_type": "execute_result"
    }
   ],
   "source": [
    "df = fetch_data('BTC-USD')[1:]\n",
    "df = pd.DataFrame(df.close)\n",
    "df.head()"
   ]
  },
  {
   "cell_type": "code",
   "execution_count": 49,
   "metadata": {},
   "outputs": [
    {
     "data": {
      "text/plain": [
       "array([[0.30348714],\n",
       "       [0.30652703],\n",
       "       [0.31237471],\n",
       "       ...,\n",
       "       [0.09230751],\n",
       "       [0.0869576 ],\n",
       "       [0.09223958]])"
      ]
     },
     "execution_count": 49,
     "metadata": {},
     "output_type": "execute_result"
    }
   ],
   "source": [
    "mm_scaler = MinMaxScaler()\n",
    "df_scaled = mm_scaler.fit_transform(df)\n",
    "df_scaled"
   ]
  },
  {
   "cell_type": "code",
   "execution_count": 50,
   "metadata": {},
   "outputs": [],
   "source": [
    "period = 20\n",
    "def split_dataset(df, period):\n",
    "    X = list()\n",
    "    y = list()\n",
    "    \n",
    "    for i in range(len(df) - period - 1):\n",
    "        X.append(df[i:(i + period), 0])\n",
    "        y.append(df[i + period, 0])\n",
    "        \n",
    "    X = np.array(X)\n",
    "    y = np.array(y)\n",
    "    \n",
    "    return X, y\n",
    "        \n",
    "X_train, y_train = split_dataset(df_scaled, period)"
   ]
  },
  {
   "cell_type": "code",
   "execution_count": 51,
   "metadata": {},
   "outputs": [
    {
     "data": {
      "text/plain": [
       "(1811, 20)"
      ]
     },
     "execution_count": 51,
     "metadata": {},
     "output_type": "execute_result"
    }
   ],
   "source": [
    "X_train.shape"
   ]
  },
  {
   "cell_type": "code",
   "execution_count": 52,
   "metadata": {},
   "outputs": [
    {
     "data": {
      "text/plain": [
       "array([0.30348714, 0.30652703, 0.31237471, 0.31420083, 0.31455135,\n",
       "       0.31846707, 0.30938133, 0.30473118, 0.3192567 , 0.30769948,\n",
       "       0.30844002, 0.30772571, 0.3090483 , 0.30156516, 0.30619695,\n",
       "       0.30287011, 0.30375941, 0.30218826, 0.27747572, 0.27128869])"
      ]
     },
     "execution_count": 52,
     "metadata": {},
     "output_type": "execute_result"
    }
   ],
   "source": [
    "X_train[0]"
   ]
  },
  {
   "cell_type": "code",
   "execution_count": 53,
   "metadata": {},
   "outputs": [
    {
     "data": {
      "text/plain": [
       "(1811,)"
      ]
     },
     "execution_count": 53,
     "metadata": {},
     "output_type": "execute_result"
    }
   ],
   "source": [
    "y_train.shape"
   ]
  },
  {
   "attachments": {},
   "cell_type": "markdown",
   "metadata": {},
   "source": [
    "## Modeling"
   ]
  },
  {
   "cell_type": "code",
   "execution_count": 54,
   "metadata": {},
   "outputs": [],
   "source": [
    "model = Sequential()\n",
    "\n",
    "model.add(layers.LSTM(100, return_sequences=True, input_shape=(X_train.shape[1],1)))\n",
    "model.add(layers.Dropout(0.3))\n",
    "model.add(layers.LSTM(100, return_sequences=False))\n",
    "model.add(layers.Dropout(0.3))\n",
    "\n",
    "model.add(layers.Dense(1))\n",
    "\n",
    "model.compile(optimizer='adam', loss='mean_squared_error')\n"
   ]
  },
  {
   "cell_type": "code",
   "execution_count": 55,
   "metadata": {},
   "outputs": [
    {
     "name": "stdout",
     "output_type": "stream",
     "text": [
      "Epoch 1/20\n",
      "151/151 [==============================] - 5s 11ms/step - loss: 0.0056\n",
      "Epoch 2/20\n",
      "151/151 [==============================] - 2s 11ms/step - loss: 0.0026\n",
      "Epoch 3/20\n",
      "151/151 [==============================] - 2s 11ms/step - loss: 0.0023\n",
      "Epoch 4/20\n",
      "151/151 [==============================] - 2s 11ms/step - loss: 0.0023\n",
      "Epoch 5/20\n",
      "151/151 [==============================] - 2s 11ms/step - loss: 0.0019\n",
      "Epoch 6/20\n",
      "151/151 [==============================] - 2s 11ms/step - loss: 0.0017\n",
      "Epoch 7/20\n",
      "151/151 [==============================] - 2s 11ms/step - loss: 0.0016\n",
      "Epoch 8/20\n",
      "151/151 [==============================] - 2s 11ms/step - loss: 0.0015\n",
      "Epoch 9/20\n",
      "151/151 [==============================] - 2s 11ms/step - loss: 0.0014\n",
      "Epoch 10/20\n",
      "151/151 [==============================] - 2s 11ms/step - loss: 0.0016\n",
      "Epoch 11/20\n",
      "151/151 [==============================] - 2s 11ms/step - loss: 0.0012\n",
      "Epoch 12/20\n",
      "151/151 [==============================] - 2s 11ms/step - loss: 0.0012\n",
      "Epoch 13/20\n",
      "151/151 [==============================] - 2s 11ms/step - loss: 0.0014\n",
      "Epoch 14/20\n",
      "151/151 [==============================] - 2s 11ms/step - loss: 0.0013\n",
      "Epoch 15/20\n",
      "151/151 [==============================] - 2s 11ms/step - loss: 0.0012\n",
      "Epoch 16/20\n",
      "151/151 [==============================] - 2s 11ms/step - loss: 0.0013\n",
      "Epoch 17/20\n",
      "151/151 [==============================] - 2s 11ms/step - loss: 0.0011\n",
      "Epoch 18/20\n",
      "151/151 [==============================] - 2s 11ms/step - loss: 0.0013\n",
      "Epoch 19/20\n",
      "151/151 [==============================] - 2s 11ms/step - loss: 0.0010\n",
      "Epoch 20/20\n",
      "151/151 [==============================] - 2s 10ms/step - loss: 0.0011\n"
     ]
    }
   ],
   "source": [
    "history = model.fit(\n",
    "    X_train, y_train,\n",
    "    #callbacks=[es],\n",
    "    #validation_split=0.2,\n",
    "    epochs=20,\n",
    "    batch_size=12,\n",
    "    verbose=1\n",
    ")"
   ]
  },
  {
   "cell_type": "code",
   "execution_count": 56,
   "metadata": {},
   "outputs": [
    {
     "data": {
      "text/plain": [
       "(1832, 1)"
      ]
     },
     "execution_count": 56,
     "metadata": {},
     "output_type": "execute_result"
    }
   ],
   "source": [
    "X_test = df.iloc[:,0:].values\n",
    "X_test.shape"
   ]
  },
  {
   "cell_type": "code",
   "execution_count": 57,
   "metadata": {},
   "outputs": [
    {
     "data": {
      "text/plain": [
       "(1811, 1)"
      ]
     },
     "execution_count": 57,
     "metadata": {},
     "output_type": "execute_result"
    }
   ],
   "source": [
    "y_real = df.iloc[period+1:,0:].values\n",
    "y_real.shape"
   ]
  },
  {
   "cell_type": "code",
   "execution_count": 58,
   "metadata": {},
   "outputs": [
    {
     "name": "stderr",
     "output_type": "stream",
     "text": [
      "/Users/oksanamishchenko/.pyenv/versions/3.8.12/envs/crypto_prediction/lib/python3.8/site-packages/sklearn/base.py:409: UserWarning: X does not have valid feature names, but MinMaxScaler was fitted with feature names\n",
      "  warnings.warn(\n"
     ]
    }
   ],
   "source": [
    "X_test = mm_scaler.transform(X_test)\n",
    "X_test, y_test = split_dataset(X_test, period)"
   ]
  },
  {
   "cell_type": "code",
   "execution_count": 59,
   "metadata": {},
   "outputs": [
    {
     "data": {
      "text/plain": [
       "(1811, 20)"
      ]
     },
     "execution_count": 59,
     "metadata": {},
     "output_type": "execute_result"
    }
   ],
   "source": [
    "X_test.shape"
   ]
  },
  {
   "cell_type": "code",
   "execution_count": 60,
   "metadata": {},
   "outputs": [
    {
     "data": {
      "text/plain": [
       "(1811, 20, 1)"
      ]
     },
     "execution_count": 60,
     "metadata": {},
     "output_type": "execute_result"
    }
   ],
   "source": [
    "X_test = np.reshape(X_test, (X_test.shape[0], X_test.shape[1], 1))\n",
    "X_test.shape"
   ]
  },
  {
   "cell_type": "code",
   "execution_count": 61,
   "metadata": {},
   "outputs": [
    {
     "name": "stdout",
     "output_type": "stream",
     "text": [
      "57/57 [==============================] - 1s 7ms/step\n"
     ]
    },
    {
     "data": {
      "text/plain": [
       "(1811, 1)"
      ]
     },
     "execution_count": 61,
     "metadata": {},
     "output_type": "execute_result"
    }
   ],
   "source": [
    "y_pred = model.predict(X_test)\n",
    "prediction = mm_scaler.inverse_transform(y_pred)\n",
    "prediction.shape"
   ]
  },
  {
   "cell_type": "code",
   "execution_count": 62,
   "metadata": {},
   "outputs": [
    {
     "data": {
      "text/plain": [
       "[<matplotlib.lines.Line2D at 0x1423fc400>]"
      ]
     },
     "execution_count": 62,
     "metadata": {},
     "output_type": "execute_result"
    },
    {
     "data": {
      "image/png": "[encoded data removed]",
      "text/plain": [
       "<Figure size 1800x600 with 1 Axes>"
      ]
     },
     "metadata": {},
     "output_type": "display_data"
    }
   ],
   "source": [
    "plt.figure(figsize=(18,6))\n",
    "plt.plot(y_real, color='red', label='Real')\n",
    "plt.plot(prediction, color='blue', label='Prediction')"
   ]
  },
  {
   "cell_type": "code",
   "execution_count": null,
   "metadata": {},
   "outputs": [],
   "source": []
  }
 ],
 "metadata": {
  "kernelspec": {
   "display_name": "crypto_prediction",
   "language": "python",
   "name": "python3"
  },
  "language_info": {
   "codemirror_mode": {
    "name": "ipython",
    "version": 3
   },
   "file_extension": ".py",
   "mimetype": "text/x-python",
   "name": "python",
   "nbconvert_exporter": "python",
   "pygments_lexer": "ipython3",
   "version": "3.8.12 (default, Jul 16 2022, 13:02:17) \n[Clang 13.1.6 (clang-1316.0.21.2.5)]"
  },
  "orig_nbformat": 4,
  "vscode": {
   "interpreter": {
    "hash": "de5903ce42fbb37bf57fc1aaf6eddda4ed35c42293f566ed7d1e63e0c3d1c146"
   }
  }
 },
 "nbformat": 4,
 "nbformat_minor": 2
}
